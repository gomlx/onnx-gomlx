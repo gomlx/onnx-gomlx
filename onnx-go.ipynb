{
 "cells": [
  {
   "cell_type": "markdown",
   "id": "37f5cd05-8e1b-4873-8220-7cd7577da125",
   "metadata": {},
   "source": [
    "# Converting ONNX models to GoMLX\n",
    "\n",
    "## Imports and setup"
   ]
  },
  {
   "cell_type": "code",
   "execution_count": 1,
   "id": "6cdd74c0-e5af-45d6-93d8-7453b1a590f4",
   "metadata": {},
   "outputs": [
    {
     "data": {
      "text/markdown": [
       "**GoNB** version [v0.10.6](https://github.com/janpfeifer/gonb/releases/tag/v0.10.6) / Commit: [0e5f587a077810d058202b76a127651a02bd4382](https://github.com/janpfeifer/gonb/tree/0e5f587a077810d058202b76a127651a02bd4382)\n"
      ]
     },
     "metadata": {},
     "output_type": "display_data"
    },
    {
     "name": "stdout",
     "output_type": "stream",
     "text": [
      "\t- Added replace rule for module \"github.com/janpfeifer/gonb\" to local directory \"/home/janpf/Projects/gonb\".\n",
      "\t- Added replace rule for module \"github.com/gomlx/onnx-gomlx\" to local directory \"/home/janpf/Projects/onnx-gomlx\".\n",
      "\t- Added replace rule for module \"github.com/gomlx/gomlx\" to local directory \"/home/janpf/Projects/gomlx\".\n"
     ]
    }
   ],
   "source": [
    "%version\n",
    "!*rm -f go.work && go work init\n",
    "!*go work use . \"${HOME}/Projects/gonb\" \"${HOME}/Projects/gomlx\" \"${HOME}/Projects/onnx-gomlx\"\n",
    "%goworkfix"
   ]
  },
  {
   "cell_type": "code",
   "execution_count": 2,
   "id": "adeca919-f2ed-4d8b-93fb-6978f94de2d8",
   "metadata": {},
   "outputs": [],
   "source": [
    "import (\n",
    "\t\"fmt\"\n",
    "\t\"os\"\n",
    "\n",
    "\t\"github.com/gogo/protobuf/proto\"\n",
    "\t\"github.com/janpfeifer/must\"\n",
    "\n",
    "    . \"github.com/gomlx/gomlx/graph\"\n",
    "\t\"github.com/gomlx/gomlx/ml/context\"\n",
    "\t\"github.com/gomlx/gomlx/ml/data\"\n",
    "\t\"github.com/gomlx/gomlx/types\"\n",
    "    \"github.com/gomlx/onnx-gomlx/onnx\"\n",
    "\t\"github.com/pkg/errors\"\n",
    ")\n",
    "\n",
    "var _ = Add"
   ]
  },
  {
   "cell_type": "markdown",
   "id": "9273d236-cb0d-4d92-a0f0-e9b9d6f6e156",
   "metadata": {},
   "source": [
    "## Linear Model\n",
    "\n",
    "The `linear_regression.onnx` was created manually using python (see accompanying `onnx-py.ipynb` notebook):\n",
    "\n",
    "```python\n",
    "X = make_tensor_value_info('X', TensorProto.FLOAT, [\"batch_size\", \"feature_dim\"])\n",
    "A = make_tensor_value_info('A', TensorProto.FLOAT, [\"feature_dim\"])\n",
    "B = make_tensor_value_info('B', TensorProto.FLOAT, [])\n",
    "Y = make_tensor_value_info('Y', TensorProto.FLOAT, [\"batch_size\"])\n",
    "node1 = make_node('MatMul', ['X', 'A'], ['XA'], 'XA')\n",
    "node2 = make_node('Add', ['XA', 'B'], ['Y'], 'Y')\n",
    "graph = make_graph([node1, node2],  # nodes\n",
    "                    'lr',  # a name\n",
    "                    [X, A, B],  # inputs\n",
    "                    [Y])  # outputs\n",
    "onnx_model = make_model(graph)\n",
    "check_model(onnx_model)\n",
    "with open(\"linear_regression.onnx\", \"wb\") as f:\n",
    "    f.write(onnx_model.SerializeToString())\n",
    "```"
   ]
  },
  {
   "cell_type": "code",
   "execution_count": 25,
   "id": "f0c2fa3d-78e6-4283-be3d-1ccaa0ddffd6",
   "metadata": {},
   "outputs": [
    {
     "name": "stdout",
     "output_type": "stream",
     "text": [
      "ONNX Model:\n",
      "\t# inputs:\t3\n",
      "\t\t[#0] X: (Float32) [batch_size, feature_dim]\n",
      "\t\t[#1] A: (Float32) [feature_dim]\n",
      "\t\t[#2] B: (Float32)\n",
      "\t# outputs:\t1\n",
      "\t\t[#0] Y: (Float32) [batch_size]\n",
      "\t# nodes:\t2\n",
      "\tOp types:\t[]string{\"Add\", \"MatMul\"}\n",
      "\tIR Version:\t10\n",
      "\tOperator Sets:\t[v21]\n",
      "\n",
      "\"XA\":\t[MatMul]\n",
      "\tInputs: [\"X\" \"A\"]\n",
      "\tOutputs: [\"XA\"]\n",
      "\"Y\":\t[Add]\n",
      "\tInputs: [\"XA\" \"B\"]\n",
      "\tOutputs: [\"Y\"]\n"
     ]
    }
   ],
   "source": [
    "var modelPath = data.ReplaceTildeInDir(\"~/work/onnx/linear_regression.onnx\") // all-MiniLM-L6-v2\n",
    "\n",
    "%%\n",
    "// Read and print the onnx model:\n",
    "model := must.M1(onnx.ReadFile(modelPath))\n",
    "fmt.Printf(\"%s\\n\", model)\n",
    "\n",
    "// Print graph:\n",
    "graph := model.Proto.Graph\n",
    "for _, n := range graph.Node {\n",
    "    fmt.Printf(\"%q:\\t[%s]\\n\", n.GetName(), n.GetOpType())\n",
    "    fmt.Printf(\"\\tInputs: %q\\n\", n.GetInput())\n",
    "    fmt.Printf(\"\\tOutputs: %q\\n\", n.GetOutput())\n",
    "}"
   ]
  },
  {
   "cell_type": "markdown",
   "id": "19434069-043d-4819-9cc7-1506ad31a143",
   "metadata": {},
   "source": [
    "## [Sentence Enconding all-MiniLM-L6-v2](https://huggingface.co/sentence-transformers/all-MiniLM-L6-v2)\n",
    "\n",
    "From the downloaded file `model.onnx`."
   ]
  },
  {
   "cell_type": "code",
   "execution_count": 23,
   "id": "2240c215-8169-4e17-a64e-2628c2bbdca2",
   "metadata": {},
   "outputs": [
    {
     "name": "stdout",
     "output_type": "stream",
     "text": [
      "ONNX Model:\n",
      "\tProducer:\tpytorch / 2.5.0\n",
      "\t# inputs:\t3\n",
      "\t\t[#0] input_ids: (Int64) [batch_size, sequence_length]\n",
      "\t\t[#1] attention_mask: (Int64) [batch_size, sequence_length]\n",
      "\t\t[#2] token_type_ids: (Int64) [batch_size, sequence_length]\n",
      "\t# outputs:\t1\n",
      "\t\t[#0] last_hidden_state: (Float32) [batch_size, sequence_length, 384]\n",
      "\t# nodes:\t780\n",
      "\t# tensors (variables):\t101\n",
      "\t\t\"embeddings.word_embeddings.weight\": (Float32)[30522 384]\n",
      "\t\t\"embeddings.position_embeddings.weight\": (Float32)[512 384]\n",
      "\t\t\"embeddings.token_type_embeddings.weight\": (Float32)[2 384]\n",
      "\t\t\"embeddings.LayerNorm.weight\": (Float32)[384]\n",
      "\t\t\"embeddings.LayerNorm.bias\": (Float32)[384]\n",
      "\t\t\"encoder.layer.0.attention.self.query.bias\": (Float32)[384]\n",
      "\t\t\"encoder.layer.0.attention.self.key.bias\": (Float32)[384]\n",
      "\t\t\"encoder.layer.0.attention.self.value.bias\": (Float32)[384]\n",
      "\t\t\"encoder.layer.0.attention.output.dense.bias\": (Float32)[384]\n",
      "\t\t\"encoder.layer.0.attention.output.LayerNorm.weight\": (Float32)[384]\n",
      "\t\t\"encoder.layer.0.attention.output.LayerNorm.bias\": (Float32)[384]\n",
      "\t\t\"encoder.layer.0.intermediate.dense.bias\": (Float32)[1536]\n",
      "\t\t\"encoder.layer.0.output.dense.bias\": (Float32)[384]\n",
      "\t\t\"encoder.layer.0.output.LayerNorm.weight\": (Float32)[384]\n",
      "\t\t\"encoder.layer.0.output.LayerNorm.bias\": (Float32)[384]\n",
      "\t\t\"encoder.layer.1.attention.self.query.bias\": (Float32)[384]\n",
      "\t\t\"encoder.layer.1.attention.self.key.bias\": (Float32)[384]\n",
      "\t\t\"encoder.layer.1.attention.self.value.bias\": (Float32)[384]\n",
      "\t\t\"encoder.layer.1.attention.output.dense.bias\": (Float32)[384]\n",
      "\t\t\"encoder.layer.1.attention.output.LayerNorm.weight\": (Float32)[384]\n",
      "\t\t\"encoder.layer.1.attention.output.LayerNorm.bias\": (Float32)[384]\n",
      "\t\t\"encoder.layer.1.intermediate.dense.bias\": (Float32)[1536]\n",
      "\t\t\"encoder.layer.1.output.dense.bias\": (Float32)[384]\n",
      "\t\t\"encoder.layer.1.output.LayerNorm.weight\": (Float32)[384]\n",
      "\t\t\"encoder.layer.1.output.LayerNorm.bias\": (Float32)[384]\n",
      "\t\t\"encoder.layer.2.attention.self.query.bias\": (Float32)[384]\n",
      "\t\t\"encoder.layer.2.attention.self.key.bias\": (Float32)[384]\n",
      "\t\t\"encoder.layer.2.attention.self.value.bias\": (Float32)[384]\n",
      "\t\t\"encoder.layer.2.attention.output.dense.bias\": (Float32)[384]\n",
      "\t\t\"encoder.layer.2.attention.output.LayerNorm.weight\": (Float32)[384]\n",
      "\t\t\"encoder.layer.2.attention.output.LayerNorm.bias\": (Float32)[384]\n",
      "\t\t\"encoder.layer.2.intermediate.dense.bias\": (Float32)[1536]\n",
      "\t\t\"encoder.layer.2.output.dense.bias\": (Float32)[384]\n",
      "\t\t\"encoder.layer.2.output.LayerNorm.weight\": (Float32)[384]\n",
      "\t\t\"encoder.layer.2.output.LayerNorm.bias\": (Float32)[384]\n",
      "\t\t\"encoder.layer.3.attention.self.query.bias\": (Float32)[384]\n",
      "\t\t\"encoder.layer.3.attention.self.key.bias\": (Float32)[384]\n",
      "\t\t\"encoder.layer.3.attention.self.value.bias\": (Float32)[384]\n",
      "\t\t\"encoder.layer.3.attention.output.dense.bias\": (Float32)[384]\n",
      "\t\t\"encoder.layer.3.attention.output.LayerNorm.weight\": (Float32)[384]\n",
      "\t\t\"encoder.layer.3.attention.output.LayerNorm.bias\": (Float32)[384]\n",
      "\t\t\"encoder.layer.3.intermediate.dense.bias\": (Float32)[1536]\n",
      "\t\t\"encoder.layer.3.output.dense.bias\": (Float32)[384]\n",
      "\t\t\"encoder.layer.3.output.LayerNorm.weight\": (Float32)[384]\n",
      "\t\t\"encoder.layer.3.output.LayerNorm.bias\": (Float32)[384]\n",
      "\t\t\"encoder.layer.4.attention.self.query.bias\": (Float32)[384]\n",
      "\t\t\"encoder.layer.4.attention.self.key.bias\": (Float32)[384]\n",
      "\t\t\"encoder.layer.4.attention.self.value.bias\": (Float32)[384]\n",
      "\t\t\"encoder.layer.4.attention.output.dense.bias\": (Float32)[384]\n",
      "\t\t\"encoder.layer.4.attention.output.LayerNorm.weight\": (Float32)[384]\n",
      "\t\t\"encoder.layer.4.attention.output.LayerNorm.bias\": (Float32)[384]\n",
      "\t\t\"encoder.layer.4.intermediate.dense.bias\": (Float32)[1536]\n",
      "\t\t\"encoder.layer.4.output.dense.bias\": (Float32)[384]\n",
      "\t\t\"encoder.layer.4.output.LayerNorm.weight\": (Float32)[384]\n",
      "\t\t\"encoder.layer.4.output.LayerNorm.bias\": (Float32)[384]\n",
      "\t\t\"encoder.layer.5.attention.self.query.bias\": (Float32)[384]\n",
      "\t\t\"encoder.layer.5.attention.self.key.bias\": (Float32)[384]\n",
      "\t\t\"encoder.layer.5.attention.self.value.bias\": (Float32)[384]\n",
      "\t\t\"encoder.layer.5.attention.output.dense.bias\": (Float32)[384]\n",
      "\t\t\"encoder.layer.5.attention.output.LayerNorm.weight\": (Float32)[384]\n",
      "\t\t\"encoder.layer.5.attention.output.LayerNorm.bias\": (Float32)[384]\n",
      "\t\t\"encoder.layer.5.intermediate.dense.bias\": (Float32)[1536]\n",
      "\t\t\"encoder.layer.5.output.dense.bias\": (Float32)[384]\n",
      "\t\t\"encoder.layer.5.output.LayerNorm.weight\": (Float32)[384]\n",
      "\t\t\"encoder.layer.5.output.LayerNorm.bias\": (Float32)[384]\n",
      "\t\t\"onnx::MatMul_977\": (Float32)[384 384]\n",
      "\t\t\"onnx::MatMul_980\": (Float32)[384 384]\n",
      "\t\t\"onnx::MatMul_983\": (Float32)[384 384]\n",
      "\t\t\"onnx::MatMul_987\": (Float32)[384 384]\n",
      "\t\t\"onnx::MatMul_988\": (Float32)[384 1536]\n",
      "\t\t\"onnx::MatMul_989\": (Float32)[1536 384]\n",
      "\t\t\"onnx::MatMul_990\": (Float32)[384 384]\n",
      "\t\t\"onnx::MatMul_993\": (Float32)[384 384]\n",
      "\t\t\"onnx::MatMul_996\": (Float32)[384 384]\n",
      "\t\t\"onnx::MatMul_1000\": (Float32)[384 384]\n",
      "\t\t\"onnx::MatMul_1001\": (Float32)[384 1536]\n",
      "\t\t\"onnx::MatMul_1002\": (Float32)[1536 384]\n",
      "\t\t\"onnx::MatMul_1003\": (Float32)[384 384]\n",
      "\t\t\"onnx::MatMul_1006\": (Float32)[384 384]\n",
      "\t\t\"onnx::MatMul_1009\": (Float32)[384 384]\n",
      "\t\t\"onnx::MatMul_1013\": (Float32)[384 384]\n",
      "\t\t\"onnx::MatMul_1014\": (Float32)[384 1536]\n",
      "\t\t\"onnx::MatMul_1015\": (Float32)[1536 384]\n",
      "\t\t\"onnx::MatMul_1016\": (Float32)[384 384]\n",
      "\t\t\"onnx::MatMul_1019\": (Float32)[384 384]\n",
      "\t\t\"onnx::MatMul_1022\": (Float32)[384 384]\n",
      "\t\t\"onnx::MatMul_1026\": (Float32)[384 384]\n",
      "\t\t\"onnx::MatMul_1027\": (Float32)[384 1536]\n",
      "\t\t\"onnx::MatMul_1028\": (Float32)[1536 384]\n",
      "\t\t\"onnx::MatMul_1029\": (Float32)[384 384]\n",
      "\t\t\"onnx::MatMul_1032\": (Float32)[384 384]\n",
      "\t\t\"onnx::MatMul_1035\": (Float32)[384 384]\n",
      "\t\t\"onnx::MatMul_1039\": (Float32)[384 384]\n",
      "\t\t\"onnx::MatMul_1040\": (Float32)[384 1536]\n",
      "\t\t\"onnx::MatMul_1041\": (Float32)[1536 384]\n",
      "\t\t\"onnx::MatMul_1042\": (Float32)[384 384]\n",
      "\t\t\"onnx::MatMul_1045\": (Float32)[384 384]\n",
      "\t\t\"onnx::MatMul_1048\": (Float32)[384 384]\n",
      "\t\t\"onnx::MatMul_1052\": (Float32)[384 384]\n",
      "\t\t\"onnx::MatMul_1053\": (Float32)[384 1536]\n",
      "\t\t\"onnx::MatMul_1054\": (Float32)[1536 384]\n",
      "\tOp types:\t[]string{\"Add\", \"Cast\", \"Concat\", \"Constant\", \"ConstantOfShape\", \"Div\", \"Equal\", \"Erf\", \"Expand\", \"Gather\", \"MatMul\", \"Mul\", \"Pow\", \"ReduceMean\", \"Reshape\", \"Shape\", \"Slice\", \"Softmax\", \"Sqrt\", \"Sub\", \"Transpose\", \"Unsqueeze\", \"Where\"}\n",
      "\tIR Version:\t7\n",
      "\tOperator Sets:\t[v14]\n",
      "\n"
     ]
    }
   ],
   "source": [
    "var modelPath = data.ReplaceTildeInDir(\"~/work/onnx/model.onnx\") // all-MiniLM-L6-v2\n",
    "\n",
    "%%\n",
    "// Read and print the onnx model:\n",
    "model := must.M1(onnx.ReadFile(modelPath))\n",
    "var modelStr string\n",
    "err := exceptions.Try(func() { modelStr = model.String() })\n",
    "if err != nil {\n",
    "    log.Fatalf(\"Error: %+v\", err)\n",
    "}\n",
    "fmt.Printf(\"%s\\n\", modelStr)\n"
   ]
  }
 ],
 "metadata": {
  "kernelspec": {
   "display_name": "Go (gonb)",
   "language": "go",
   "name": "gonb"
  },
  "language_info": {
   "codemirror_mode": "",
   "file_extension": ".go",
   "mimetype": "",
   "name": "go",
   "nbconvert_exporter": "",
   "pygments_lexer": "",
   "version": "go1.23.2"
  }
 },
 "nbformat": 4,
 "nbformat_minor": 5
}
