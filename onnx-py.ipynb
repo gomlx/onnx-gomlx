{
 "cells": [
  {
   "cell_type": "code",
   "execution_count": 1,
   "id": "39897ce6-4ab9-44b8-8262-aad96635d476",
   "metadata": {},
   "outputs": [],
   "source": [
    "from onnx import TensorProto\n",
    "from onnx.helper import (\n",
    "    make_model, make_node, make_graph,\n",
    "    make_tensor_value_info)\n",
    "from onnx.checker import check_model\n"
   ]
  },
  {
   "cell_type": "code",
   "execution_count": 3,
   "id": "d0a5111e-9542-4a90-b33e-7809b092a211",
   "metadata": {},
   "outputs": [],
   "source": [
    "# 'X' is the name, TensorProto.FLOAT the type, [None, None] the shape\n",
    "X = make_tensor_value_info('X', TensorProto.FLOAT, [\"batch_size\", \"feature_dim\"])\n",
    "A = make_tensor_value_info('A', TensorProto.FLOAT, [\"feature_dim\"])\n",
    "B = make_tensor_value_info('B', TensorProto.FLOAT, [])\n",
    "\n",
    "# outputs, the shape is left undefined\n",
    "Y = make_tensor_value_info('Y', TensorProto.FLOAT, [\"batch_size\"])\n",
    "\n",
    "# nodes\n",
    "\n",
    "# It creates a node defined by the operator type MatMul,\n",
    "# 'X', 'A' are the inputs of the node, 'XA' the output.\n",
    "node1 = make_node('MatMul', ['X', 'A'], ['XA'], 'XA')\n",
    "node2 = make_node('Add', ['XA', 'B'], ['Y'], 'Y')\n",
    "\n",
    "# from nodes to graph\n",
    "# the graph is built from the list of nodes, the list of inputs,\n",
    "# the list of outputs and a name.\n",
    "\n",
    "graph = make_graph([node1, node2],  # nodes\n",
    "                    'lr',  # a name\n",
    "                    [X, A, B],  # inputs\n",
    "                    [Y])  # outputs\n",
    "\n",
    "# onnx graph\n",
    "# there is no metadata in this case.\n",
    "\n",
    "onnx_model = make_model(graph)\n",
    "\n",
    "# Let's check the model is consistent,\n",
    "# this function is described in section\n",
    "# Checker and Shape Inference.\n",
    "check_model(onnx_model)"
   ]
  },
  {
   "cell_type": "code",
   "execution_count": 4,
   "id": "65bac1e7-8da7-4995-abf1-44f35b895292",
   "metadata": {},
   "outputs": [],
   "source": [
    "with open(\"linear_regression.onnx\", \"wb\") as f:\n",
    "    f.write(onnx_model.SerializeToString())"
   ]
  },
  {
   "cell_type": "code",
   "execution_count": 6,
   "id": "740e9376-6c3b-4c0f-b15c-2e7c10f80174",
   "metadata": {},
   "outputs": [
    {
     "name": "stdout",
     "output_type": "stream",
     "text": [
      "[1001.23 1111.12]\n"
     ]
    }
   ],
   "source": [
    "import onnxruntime as ort\n",
    "import numpy as np\n",
    "\n",
    "x = np.array([[1.0, 2.0, 3.0], [100.0, 101.0, 102.0]], dtype=np.float32)\n",
    "a = np.array([1.0, 0.1, 0.01], dtype=np.float32)\n",
    "b = np.array(1000.0, dtype=np.float32)\n",
    "\n",
    "ort_sess = ort.InferenceSession('linear_regression.onnx')\n",
    "outputs = ort_sess.run(['Y'], {'X': x, 'A': a, 'B':b})\n",
    "print(outputs[0])"
   ]
  }
 ],
 "metadata": {
  "kernelspec": {
   "display_name": "Python 3 (ipykernel)",
   "language": "python",
   "name": "python3"
  },
  "language_info": {
   "codemirror_mode": {
    "name": "ipython",
    "version": 3
   },
   "file_extension": ".py",
   "mimetype": "text/x-python",
   "name": "python",
   "nbconvert_exporter": "python",
   "pygments_lexer": "ipython3",
   "version": "3.12.3"
  }
 },
 "nbformat": 4,
 "nbformat_minor": 5
}
